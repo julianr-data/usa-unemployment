{
 "cells": [
  {
   "cell_type": "markdown",
   "id": "2d0db9e7",
   "metadata": {},
   "source": [
    "### 1. INSTALL/IMPORT LIBRARIES"
   ]
  },
  {
   "cell_type": "code",
   "execution_count": 4,
   "id": "993b3692",
   "metadata": {},
   "outputs": [
    {
     "name": "stdout",
     "output_type": "stream",
     "text": [
      "\n",
      "\u001b[1m[\u001b[0m\u001b[34;49mnotice\u001b[0m\u001b[1;39;49m]\u001b[0m\u001b[39;49m A new release of pip is available: \u001b[0m\u001b[31;49m23.0.1\u001b[0m\u001b[39;49m -> \u001b[0m\u001b[32;49m24.0\u001b[0m\n",
      "\u001b[1m[\u001b[0m\u001b[34;49mnotice\u001b[0m\u001b[1;39;49m]\u001b[0m\u001b[39;49m To update, run: \u001b[0m\u001b[32;49mpython3.10 -m pip install --upgrade pip\u001b[0m\n",
      "Note: you may need to restart the kernel to use updated packages.\n",
      "Your fred API key is: 592e1401c1b3dd13827a914e77312c39\n"
     ]
    }
   ],
   "source": [
    "# Install Fred API library\n",
    "%pip install fredapi > /dev/null\n",
    "\n",
    "# Import libraries\n",
    "import numpy as np\n",
    "import pandas as pd\n",
    "import matplotlib.pyplot as plt\n",
    "import seaborn as sns\n",
    "import plotly.express as px\n",
    "\n",
    "# Set matplotlib style\n",
    "plt.style.use(\"fivethirtyeight\")\n",
    "palette = plt.rcParams[\"axes.prop_cycle\"].by_key()[\"color\"]\n",
    "\n",
    "# Set a dark sns style:\n",
    "styledic = {'figure.facecolor': 'gainsboro',\n",
    " 'axes.labelcolor': '1',\n",
    " 'xtick.direction': 'out',\n",
    " 'ytick.direction': 'out',\n",
    " 'xtick.color': '.15',\n",
    " 'ytick.color': '.15',\n",
    " 'axes.axisbelow': True,\n",
    " 'grid.linestyle': '-',\n",
    " 'text.color': '.15',\n",
    " 'font.family': ['sans-serif'],\n",
    " 'font.sans-serif': ['Arial',\n",
    "  'DejaVu Sans',\n",
    "  'Liberation Sans',\n",
    "  'Bitstream Vera Sans',\n",
    "  'sans-serif'],\n",
    " 'lines.solid_capstyle': 'butt',\n",
    " 'patch.edgecolor': 'b',\n",
    " 'patch.force_edgecolor': True,\n",
    " 'image.cmap': 'flare',\n",
    " 'xtick.top': True,\n",
    " 'ytick.right': False,\n",
    " 'axes.grid': True,\n",
    " 'axes.facecolor': '#d6d6f9',\n",
    " 'axes.edgecolor': 'white',\n",
    " 'grid.color': 'white',\n",
    " 'axes.spines.left': True,\n",
    " 'axes.spines.bottom': True,\n",
    " 'axes.spines.right': True,\n",
    " 'axes.spines.top': True,\n",
    " 'xtick.bottom': True,\n",
    " 'ytick.left': True}\n",
    "\n",
    "sns.set_theme(style=styledic)\n",
    "sns.set_context(\"notebook\")\n",
    "sns.set_palette(\"bright\")\n",
    "\n",
    "# Import FRED\n",
    "from fredapi import Fred\n",
    "\n",
    "# Set FRED API key\n",
    "from config import FREDKEY as fk\n",
    "print(f\"Your fred API key is: {fk}\")\n"
   ]
  },
  {
   "cell_type": "markdown",
   "id": "320a4ebc",
   "metadata": {},
   "source": [
    "### 2. CREATE FRED OBJECT"
   ]
  },
  {
   "cell_type": "code",
   "execution_count": null,
   "id": "591f223c",
   "metadata": {},
   "outputs": [],
   "source": [
    "fred = Fred(api_key=fk)"
   ]
  },
  {
   "cell_type": "markdown",
   "id": "78dc3d10",
   "metadata": {},
   "source": [
    "### 3. PULL UNEMPLOYMENT DATA"
   ]
  },
  {
   "cell_type": "code",
   "execution_count": null,
   "id": "0a4f78fc",
   "metadata": {},
   "outputs": [],
   "source": [
    "# Search and pull results for \"unemployment\"\n",
    "unemp_search = fred.search(\"unemployment\", order_by=\"popularity\", sort_order=\"desc\")\n",
    "\n",
    "# Check it out\n",
    "print(f\"Dataframe shape: {unemp_search.shape}\")\n",
    "unemp_search.head(3)"
   ]
  },
  {
   "cell_type": "code",
   "execution_count": null,
   "id": "9895fda8",
   "metadata": {},
   "outputs": [],
   "source": [
    "# Get the unemplyment rate series\n",
    "dfunemp = fred.get_series(series_id=\"UNRATE\")"
   ]
  },
  {
   "cell_type": "code",
   "execution_count": null,
   "id": "af57423c",
   "metadata": {},
   "outputs": [],
   "source": [
    "# Print series\n",
    "print(\"\\nUSA unemployment % (monthly, since 1948):\\n\")\n",
    "print(dfunemp)\n",
    "\n",
    "# Plot the unemployment rate in seaborn\n",
    "plt.figure(figsize=(12, 5))\n",
    "sns.lineplot(data=dfunemp, lw=2)\n",
    "plt.title(\"USA Unemployment Rate (1948-2024)\", x=0.5, y=1.05)\n",
    "plt.show()\n",
    "\n",
    "# dfunemp.plot(figsize=(12, 5), title=\"Unemployment\", lw=2)"
   ]
  },
  {
   "cell_type": "code",
   "execution_count": null,
   "id": "07f2608d",
   "metadata": {},
   "outputs": [],
   "source": [
    "# Search and pull results for unemployment rate by state\n",
    "unemp_search_df = fred.search(\"unemployment rate state\", filter= (\"frequency\", \"Monthly\"))\n",
    "\n",
    "# Check indesxes\n",
    "print(f\"\\nResults for 'unemployment rate state':\\n\")\n",
    "print(unemp_search_df.index)\n",
    "\n",
    "# Query within that dataframe for the seasonally adjusted unemployment rate\n",
    "print(f\"\\n Filtered by 'seasonally adjusted':\\n\")\n",
    "unemp_df = unemp_search_df.query(\"seasonal_adjustment == 'Seasonally Adjusted' and units == 'Percent'\")\n",
    "print(unemp_df.index)"
   ]
  },
  {
   "cell_type": "code",
   "execution_count": null,
   "id": "663e056f",
   "metadata": {},
   "outputs": [],
   "source": [
    "# Get only those with \"Unemployment Rate\" in the title\n",
    "unemp_df = unemp_df.loc[unemp_df[\"title\"].str.contains(\"Unemployment Rate\")]\n",
    "unemp_df = unemp_df[unemp_df.index.str.endswith(\"UR\")]\n",
    "unemp_df.index"
   ]
  },
  {
   "cell_type": "code",
   "execution_count": null,
   "id": "44fa5bb5",
   "metadata": {},
   "outputs": [],
   "source": [
    "unemp_df.title"
   ]
  },
  {
   "cell_type": "code",
   "execution_count": null,
   "id": "13a4b228",
   "metadata": {},
   "outputs": [],
   "source": [
    "# take the field 'title' for each item,\n",
    "# query the FRED API for series corresponding to each index code\n",
    "# make eachs eries into a dataframe and assign it the previously extracted 'title'\n",
    "# append the results to a list\n",
    "# print lenght of list and one example\n",
    "\n",
    "all_res = []\n",
    "\n",
    "for i in unemp_df.index:\n",
    "    title = unemp_df.loc[i, \"title\"]\n",
    "    result = fred.get_series(i)\n",
    "    result = result.to_frame(name=title)\n",
    "    all_res.append(result)\n",
    "\n",
    "print(len(all_res))\n",
    "all_res[1]"
   ]
  },
  {
   "cell_type": "code",
   "execution_count": null,
   "id": "fad50d37",
   "metadata": {},
   "outputs": [],
   "source": [
    "# concatenate all dataframes in the list into a single dataframe\n",
    "concatdf = pd.concat(all_res, axis=1)\n",
    "\n",
    "# take out the 'unemployment rate in ' part of the column names\n",
    "concatdf.rename(columns=lambda x: x.replace('Unemployment Rate in ', ''), inplace=True)\n",
    "\n",
    "# drop the columns referring to bigger-than-state areas and rename the dataframe to just DF\n",
    "dropcolumns = concatdf.columns[concatdf.columns.str.contains('Census')]\n",
    "df = concatdf.drop(columns=dropcolumns)\n",
    "\n",
    "# check the resulting dataframe columns to see if they are all states\n",
    "lista = df.columns.to_list()\n",
    "print(len(lista))\n",
    "print(lista)"
   ]
  },
  {
   "cell_type": "code",
   "execution_count": null,
   "id": "f5d341f4",
   "metadata": {},
   "outputs": [],
   "source": [
    "# Check whether there are na values\n",
    "print(df.isna().sum(axis=0).all)"
   ]
  },
  {
   "cell_type": "code",
   "execution_count": null,
   "id": "aaf0968f",
   "metadata": {},
   "outputs": [],
   "source": [
    "# Check where the NA values are in Puerto Rico\n",
    "with pd.option_context('display.max_rows', None, 'display.max_columns', None):\n",
    "    print(df[\"Puerto Rico\"])"
   ]
  },
  {
   "cell_type": "code",
   "execution_count": null,
   "id": "a42da5dc",
   "metadata": {},
   "outputs": [],
   "source": [
    "nulls = df.loc[df[\"Puerto Rico\"].isnull()]\n",
    "print(nulls.index)\n",
    "listanulls = nulls.index.to_list()\n",
    "listanulls1 = []\n",
    "for choclo in listanulls:\n",
    "    x = str(choclo)\n",
    "    x = x[0:-9:]\n",
    "    print(x)\n",
    "    listanulls1.append(x)\n",
    "print(listanulls1)"
   ]
  },
  {
   "cell_type": "code",
   "execution_count": null,
   "id": "8b300995",
   "metadata": {},
   "outputs": [],
   "source": [
    "for date in listanulls1:\n",
    "    df[\"Puerto Rico\"].at[date] = 9.0\n",
    "\n",
    "with pd.option_context('display.max_rows', None, 'display.max_columns', None):\n",
    "    print(df[\"Puerto Rico\"])"
   ]
  },
  {
   "cell_type": "code",
   "execution_count": null,
   "id": "51177ad3",
   "metadata": {},
   "outputs": [],
   "source": [
    "df.isnull().sum(axis=1).plot()"
   ]
  },
  {
   "cell_type": "code",
   "execution_count": null,
   "id": "c476429a",
   "metadata": {},
   "outputs": [],
   "source": [
    "px.line(df)"
   ]
  },
  {
   "cell_type": "code",
   "execution_count": null,
   "id": "db5500c2",
   "metadata": {},
   "outputs": [],
   "source": [
    "fig_april = df.loc[df.index == \"2020-04-01\"].T.sort_values(\"2020-04-01\", ascending=True) \\\n",
    "    .plot(kind=\"barh\", figsize=(6,10), width=0.9, fontsize=8,\n",
    "          title= \"Unemployment by State, April 2020\")\n",
    "\n",
    "fig_april.legend().remove()\n",
    "fig_april.set_xlabel(\"% unemployment\")\n",
    "\n",
    "plt.show()\n"
   ]
  },
  {
   "cell_type": "markdown",
   "id": "e92d4208",
   "metadata": {},
   "source": [
    "como cambio el desempleo entre marzo y abril\n",
    "rate de desempleo de abril - marzo\n"
   ]
  },
  {
   "cell_type": "code",
   "execution_count": null,
   "id": "10f891ed",
   "metadata": {},
   "outputs": [],
   "source": [
    "df"
   ]
  },
  {
   "cell_type": "code",
   "execution_count": null,
   "id": "339cbf56",
   "metadata": {},
   "outputs": [],
   "source": [
    "difference = df.loc['2020-04-01'] - df.loc['2020-03-01']\n",
    "difference.sort_values(inplace=True)\n",
    "dif_df = pd.DataFrame(difference)\n",
    "dif_df.plot(kind=\"barh\", figsize=(5,10), fontsize=6)"
   ]
  },
  {
   "cell_type": "markdown",
   "id": "445d42b1",
   "metadata": {},
   "source": [
    "PASAR ESTO ULTIMO A VARIACION EXPRESADA EN PORCENTAJE\n",
    "PULIR TODO EL NOTEBOOK"
   ]
  }
 ],
 "metadata": {
  "kernelspec": {
   "display_name": "Python 3 (ipykernel)",
   "language": "python",
   "name": "python3"
  },
  "language_info": {
   "codemirror_mode": {
    "name": "ipython",
    "version": 3
   },
   "file_extension": ".py",
   "mimetype": "text/x-python",
   "name": "python",
   "nbconvert_exporter": "python",
   "pygments_lexer": "ipython3",
   "version": "3.10.6"
  },
  "toc": {
   "base_numbering": 1,
   "nav_menu": {},
   "number_sections": true,
   "sideBar": true,
   "skip_h1_title": false,
   "title_cell": "Table of Contents",
   "title_sidebar": "Contents",
   "toc_cell": false,
   "toc_position": {},
   "toc_section_display": true,
   "toc_window_display": false
  }
 },
 "nbformat": 4,
 "nbformat_minor": 5
}
